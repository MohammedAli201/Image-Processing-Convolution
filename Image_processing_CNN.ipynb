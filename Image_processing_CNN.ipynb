{
  "nbformat": 4,
  "nbformat_minor": 0,
  "metadata": {
    "colab": {
      "provenance": [],
      "authorship_tag": "ABX9TyM2mZOfd+/UW4VAssNRUMch",
      "include_colab_link": true
    },
    "kernelspec": {
      "name": "python3",
      "display_name": "Python 3"
    },
    "language_info": {
      "name": "python"
    }
  },
  "cells": [
    {
      "cell_type": "markdown",
      "metadata": {
        "id": "view-in-github",
        "colab_type": "text"
      },
      "source": [
        "<a href=\"https://colab.research.google.com/github/MohammedAli201/Image-Processing-Convolution/blob/main/Image_processing_CNN.ipynb\" target=\"_parent\"><img src=\"https://colab.research.google.com/assets/colab-badge.svg\" alt=\"Open In Colab\"/></a>"
      ]
    },
    {
      "cell_type": "code",
      "execution_count": null,
      "metadata": {
        "id": "9UXo6dGSxBh3"
      },
      "outputs": [],
      "source": []
    },
    {
      "cell_type": "markdown",
      "source": [
        "\n",
        "**Convolution neural network for image classification**"
      ],
      "metadata": {
        "id": "_18bcg7O8dvP"
      }
    },
    {
      "cell_type": "markdown",
      "source": [
        "Importing the libraries"
      ],
      "metadata": {
        "id": "TXvl7Rf589lb"
      }
    },
    {
      "cell_type": "code",
      "source": [
        "import numpy as np\n",
        "import matplotlib.pyplot as plt\n",
        "import zipfile\n",
        "import seaborn as sns\n",
        "import cv2\n",
        "import tensorflow as tf\n",
        "from google.colab.patches import cv2_imshow\n",
        "from tensorflow.keras.models import Sequential \n",
        "from tensorflow.keras.layers import Conv2D, MaxPool2D,Flatten, Dense\n",
        "from tensorflow.keras.preprocessing.image import ImageDataGenerator \n"
      ],
      "metadata": {
        "id": "GH0_gjBh87Cb"
      },
      "execution_count": null,
      "outputs": []
    },
    {
      "cell_type": "code",
      "source": [
        "tf.__version__"
      ],
      "metadata": {
        "colab": {
          "base_uri": "https://localhost:8080/",
          "height": 36
        },
        "id": "BdFSrFzD-3BZ",
        "outputId": "c54b6344-320b-478d-af1f-9c099bae191a"
      },
      "execution_count": null,
      "outputs": [
        {
          "output_type": "execute_result",
          "data": {
            "text/plain": [
              "'2.11.0'"
            ],
            "application/vnd.google.colaboratory.intrinsic+json": {
              "type": "string"
            }
          },
          "metadata": {},
          "execution_count": 3
        }
      ]
    },
    {
      "cell_type": "markdown",
      "source": [
        "Laoding Images"
      ],
      "metadata": {
        "id": "ExF6fnRE_EVq"
      }
    },
    {
      "cell_type": "code",
      "source": [
        "from google.colab import drive\n",
        "drive.mount('/content/drive')"
      ],
      "metadata": {
        "colab": {
          "base_uri": "https://localhost:8080/"
        },
        "id": "gcNBFzTz_HlZ",
        "outputId": "8604c51b-a95c-42d7-f1de-660e181f40cf"
      },
      "execution_count": null,
      "outputs": [
        {
          "output_type": "stream",
          "name": "stdout",
          "text": [
            "Mounted at /content/drive\n"
          ]
        }
      ]
    },
    {
      "cell_type": "code",
      "source": [
        "path = '/content/drive/MyDrive/computer-vision-codes/homer_bart_2.zip'\n",
        "zip_object = zipfile.ZipFile(file=path, mode='r')\n",
        "zip_object.extractall('./')\n",
        "zip_object.close()\n"
      ],
      "metadata": {
        "id": "xwtxMkiRB6Fh"
      },
      "execution_count": null,
      "outputs": []
    },
    {
      "cell_type": "code",
      "source": [
        "tf.keras.preprocessing.image.load_img('/content/homer_bart_2/training_set/bart/bart100.bmp')"
      ],
      "metadata": {
        "id": "8aRQ_GXpDyI9"
      },
      "execution_count": null,
      "outputs": []
    },
    {
      "cell_type": "code",
      "source": [
        "tf.keras.preprocessing.image.load_img('/content/homer_bart_2/training_set/homer/homer100.bmp')"
      ],
      "metadata": {
        "id": "pLfufP0jEggD"
      },
      "execution_count": null,
      "outputs": []
    },
    {
      "cell_type": "markdown",
      "source": [
        "Train and test"
      ],
      "metadata": {
        "id": "VfPi9sK1FC2O"
      }
    },
    {
      "cell_type": "code",
      "source": [
        "training_generator = ImageDataGenerator(rescale = 1./255, rotation_range=7,horizontal_flip=True,zoom_range=0.2)"
      ],
      "metadata": {
        "id": "uuX9exbhFIOs"
      },
      "execution_count": null,
      "outputs": []
    },
    {
      "cell_type": "code",
      "source": [
        "train_dataset  = training_generator.flow_from_directory('/content/homer_bart_2/training_set', target_size=(64,64), batch_size=8, class_mode='categorical', shuffle=True)"
      ],
      "metadata": {
        "colab": {
          "base_uri": "https://localhost:8080/"
        },
        "id": "HwbceRzVFswz",
        "outputId": "cfa94d54-7f2a-4065-929c-92c9270fbeb6"
      },
      "execution_count": null,
      "outputs": [
        {
          "output_type": "stream",
          "name": "stdout",
          "text": [
            "Found 215 images belonging to 2 classes.\n"
          ]
        }
      ]
    },
    {
      "cell_type": "code",
      "source": [
        "train_dataset.classes"
      ],
      "metadata": {
        "id": "USC_o9FyHBI8"
      },
      "execution_count": null,
      "outputs": []
    },
    {
      "cell_type": "code",
      "source": [
        "train_dataset.class_indices"
      ],
      "metadata": {
        "colab": {
          "base_uri": "https://localhost:8080/"
        },
        "id": "BQAFFgpBHLOX",
        "outputId": "ca973c27-7ad9-4b68-9fdf-ac3e884c4ad8"
      },
      "execution_count": null,
      "outputs": [
        {
          "output_type": "execute_result",
          "data": {
            "text/plain": [
              "{'bart': 0, 'homer': 1}"
            ]
          },
          "metadata": {},
          "execution_count": 14
        }
      ]
    },
    {
      "cell_type": "code",
      "source": [
        "from tensorflow.python.ops.batch_ops import batch\n",
        "test_generator = ImageDataGenerator(rescale = 1./255)\n",
        "test_dataset = test_generator.flow_from_directory('/content/homer_bart_2/test_set', target_size =(64,64), batch_size=1,class_mode='categorical', shuffle=False)\n"
      ],
      "metadata": {
        "colab": {
          "base_uri": "https://localhost:8080/"
        },
        "id": "Uz7zTsstHTsi",
        "outputId": "87a3420c-0b16-4bd1-f1c7-d4b763348e34"
      },
      "execution_count": null,
      "outputs": [
        {
          "output_type": "stream",
          "name": "stdout",
          "text": [
            "Found 54 images belonging to 2 classes.\n"
          ]
        }
      ]
    },
    {
      "cell_type": "code",
      "source": [
        "test_dataset.classes"
      ],
      "metadata": {
        "id": "zBGYpJXBIDuC"
      },
      "execution_count": null,
      "outputs": []
    },
    {
      "cell_type": "code",
      "source": [
        "from warnings import filters\n",
        "network = Sequential()\n",
        "network.add((Conv2D(filters=32,kernel_size = (3,3), activation = 'relu', input_shape=(64,64,3))))\n",
        "network.add((MaxPool2D(pool_size=(2,2))))\n",
        "\n",
        "network.add((Conv2D(filters=32,kernel_size = (3,3), activation = 'relu')))\n",
        "network.add((MaxPool2D(pool_size=(2,2))))\n",
        "\n",
        "network.add((Conv2D(filters=32,kernel_size = (3,3), activation = 'relu')))\n",
        "network.add((MaxPool2D(pool_size=(2,2))))\n",
        "\n",
        "network.add((Flatten()))\n",
        "\n",
        "network.add((Dense(units = 577, activation = 'relu')))\n",
        "network.add((Dense(units = 577, activation = 'relu')))\n",
        "network.add((Dense(units = 2, activation = 'softmax')))\n",
        "\n",
        "network.summary()"
      ],
      "metadata": {
        "colab": {
          "base_uri": "https://localhost:8080/"
        },
        "id": "tqwvV4foIK60",
        "outputId": "16ad6d12-8851-4eda-b97e-c588e9efa8d6"
      },
      "execution_count": null,
      "outputs": [
        {
          "output_type": "stream",
          "name": "stdout",
          "text": [
            "Model: \"sequential_4\"\n",
            "_________________________________________________________________\n",
            " Layer (type)                Output Shape              Param #   \n",
            "=================================================================\n",
            " conv2d_12 (Conv2D)          (None, 62, 62, 32)        896       \n",
            "                                                                 \n",
            " max_pooling2d_12 (MaxPoolin  (None, 31, 31, 32)       0         \n",
            " g2D)                                                            \n",
            "                                                                 \n",
            " conv2d_13 (Conv2D)          (None, 29, 29, 32)        9248      \n",
            "                                                                 \n",
            " max_pooling2d_13 (MaxPoolin  (None, 14, 14, 32)       0         \n",
            " g2D)                                                            \n",
            "                                                                 \n",
            " conv2d_14 (Conv2D)          (None, 12, 12, 32)        9248      \n",
            "                                                                 \n",
            " max_pooling2d_14 (MaxPoolin  (None, 6, 6, 32)         0         \n",
            " g2D)                                                            \n",
            "                                                                 \n",
            " flatten_4 (Flatten)         (None, 1152)              0         \n",
            "                                                                 \n",
            " dense_11 (Dense)            (None, 577)               665281    \n",
            "                                                                 \n",
            " dense_12 (Dense)            (None, 577)               333506    \n",
            "                                                                 \n",
            " dense_13 (Dense)            (None, 2)                 1156      \n",
            "                                                                 \n",
            "=================================================================\n",
            "Total params: 1,019,335\n",
            "Trainable params: 1,019,335\n",
            "Non-trainable params: 0\n",
            "_________________________________________________________________\n"
          ]
        }
      ]
    },
    {
      "cell_type": "code",
      "source": [
        "network.compile(optimizer='adam', loss = 'categorical_crossentropy', metrics = ['accuracy'])"
      ],
      "metadata": {
        "id": "CqRxBljhNzGx"
      },
      "execution_count": null,
      "outputs": []
    },
    {
      "cell_type": "code",
      "source": [
        "history = network.fit_generator(train_dataset, epochs=50)"
      ],
      "metadata": {
        "colab": {
          "base_uri": "https://localhost:8080/"
        },
        "id": "NyQWUg_UOE7Q",
        "outputId": "ba9e7067-0b3e-4b8c-ed18-b5b26a4d0257"
      },
      "execution_count": null,
      "outputs": [
        {
          "output_type": "stream",
          "name": "stderr",
          "text": [
            "<ipython-input-24-5df4b5f3c6a2>:1: UserWarning: `Model.fit_generator` is deprecated and will be removed in a future version. Please use `Model.fit`, which supports generators.\n",
            "  history = network.fit_generator(train_dataset, epochs=50)\n"
          ]
        },
        {
          "output_type": "stream",
          "name": "stdout",
          "text": [
            "Epoch 1/50\n",
            "27/27 [==============================] - 3s 47ms/step - loss: 0.6635 - accuracy: 0.6326\n",
            "Epoch 2/50\n",
            "27/27 [==============================] - 2s 72ms/step - loss: 0.6150 - accuracy: 0.6744\n",
            "Epoch 3/50\n",
            "27/27 [==============================] - 1s 45ms/step - loss: 0.5112 - accuracy: 0.7581\n",
            "Epoch 4/50\n",
            "27/27 [==============================] - 1s 41ms/step - loss: 0.4809 - accuracy: 0.7628\n",
            "Epoch 5/50\n",
            "27/27 [==============================] - 1s 42ms/step - loss: 0.4053 - accuracy: 0.8000\n",
            "Epoch 6/50\n",
            "27/27 [==============================] - 1s 42ms/step - loss: 0.3747 - accuracy: 0.8140\n",
            "Epoch 7/50\n",
            "27/27 [==============================] - 1s 44ms/step - loss: 0.2983 - accuracy: 0.8791\n",
            "Epoch 8/50\n",
            "27/27 [==============================] - 1s 42ms/step - loss: 0.2643 - accuracy: 0.8977\n",
            "Epoch 9/50\n",
            "27/27 [==============================] - 1s 43ms/step - loss: 0.2468 - accuracy: 0.8791\n",
            "Epoch 10/50\n",
            "27/27 [==============================] - 2s 70ms/step - loss: 0.2086 - accuracy: 0.8930\n",
            "Epoch 11/50\n",
            "27/27 [==============================] - 1s 49ms/step - loss: 0.2033 - accuracy: 0.9163\n",
            "Epoch 12/50\n",
            "27/27 [==============================] - 1s 43ms/step - loss: 0.1401 - accuracy: 0.9395\n",
            "Epoch 13/50\n",
            "27/27 [==============================] - 1s 42ms/step - loss: 0.1175 - accuracy: 0.9488\n",
            "Epoch 14/50\n",
            "27/27 [==============================] - 1s 45ms/step - loss: 0.0817 - accuracy: 0.9721\n",
            "Epoch 15/50\n",
            "27/27 [==============================] - 1s 44ms/step - loss: 0.3445 - accuracy: 0.8465\n",
            "Epoch 16/50\n",
            "27/27 [==============================] - 1s 41ms/step - loss: 0.1476 - accuracy: 0.9442\n",
            "Epoch 17/50\n",
            "27/27 [==============================] - 1s 41ms/step - loss: 0.1939 - accuracy: 0.9488\n",
            "Epoch 18/50\n",
            "27/27 [==============================] - 1s 43ms/step - loss: 0.1486 - accuracy: 0.9302\n",
            "Epoch 19/50\n",
            "27/27 [==============================] - 2s 70ms/step - loss: 0.0455 - accuracy: 0.9907\n",
            "Epoch 20/50\n",
            "27/27 [==============================] - 1s 44ms/step - loss: 0.0848 - accuracy: 0.9721\n",
            "Epoch 21/50\n",
            "27/27 [==============================] - 1s 42ms/step - loss: 0.1668 - accuracy: 0.9442\n",
            "Epoch 22/50\n",
            "27/27 [==============================] - 1s 41ms/step - loss: 0.1739 - accuracy: 0.9163\n",
            "Epoch 23/50\n",
            "27/27 [==============================] - 1s 40ms/step - loss: 0.1229 - accuracy: 0.9488\n",
            "Epoch 24/50\n",
            "27/27 [==============================] - 2s 56ms/step - loss: 0.0710 - accuracy: 0.9767\n",
            "Epoch 25/50\n",
            "27/27 [==============================] - 2s 57ms/step - loss: 0.0322 - accuracy: 0.9907\n",
            "Epoch 26/50\n",
            "27/27 [==============================] - 2s 70ms/step - loss: 0.1841 - accuracy: 0.9535\n",
            "Epoch 27/50\n",
            "27/27 [==============================] - 1s 43ms/step - loss: 0.0736 - accuracy: 0.9814\n",
            "Epoch 28/50\n",
            "27/27 [==============================] - 1s 51ms/step - loss: 0.0409 - accuracy: 0.9860\n",
            "Epoch 29/50\n",
            "27/27 [==============================] - 1s 41ms/step - loss: 0.0469 - accuracy: 0.9814\n",
            "Epoch 30/50\n",
            "27/27 [==============================] - 1s 42ms/step - loss: 0.0139 - accuracy: 1.0000\n",
            "Epoch 31/50\n",
            "27/27 [==============================] - 1s 42ms/step - loss: 0.0152 - accuracy: 0.9953\n",
            "Epoch 32/50\n",
            "27/27 [==============================] - 1s 41ms/step - loss: 0.0229 - accuracy: 0.9953\n",
            "Epoch 33/50\n",
            "27/27 [==============================] - 1s 42ms/step - loss: 0.0120 - accuracy: 0.9953\n",
            "Epoch 34/50\n",
            "27/27 [==============================] - 2s 75ms/step - loss: 0.0595 - accuracy: 0.9814\n",
            "Epoch 35/50\n",
            "27/27 [==============================] - 1s 43ms/step - loss: 0.0087 - accuracy: 1.0000\n",
            "Epoch 36/50\n",
            "27/27 [==============================] - 1s 41ms/step - loss: 0.0061 - accuracy: 1.0000\n",
            "Epoch 37/50\n",
            "27/27 [==============================] - 1s 42ms/step - loss: 0.0040 - accuracy: 1.0000\n",
            "Epoch 38/50\n",
            "27/27 [==============================] - 1s 42ms/step - loss: 0.0097 - accuracy: 0.9907\n",
            "Epoch 39/50\n",
            "27/27 [==============================] - 1s 40ms/step - loss: 0.0288 - accuracy: 0.9814\n",
            "Epoch 40/50\n",
            "27/27 [==============================] - 1s 40ms/step - loss: 0.1262 - accuracy: 0.9721\n",
            "Epoch 41/50\n",
            "27/27 [==============================] - 1s 41ms/step - loss: 0.0213 - accuracy: 1.0000\n",
            "Epoch 42/50\n",
            "27/27 [==============================] - 1s 42ms/step - loss: 0.0469 - accuracy: 0.9814\n",
            "Epoch 43/50\n",
            "27/27 [==============================] - 2s 72ms/step - loss: 0.1017 - accuracy: 0.9674\n",
            "Epoch 44/50\n",
            "27/27 [==============================] - 1s 47ms/step - loss: 0.0475 - accuracy: 0.9860\n",
            "Epoch 45/50\n",
            "27/27 [==============================] - 1s 40ms/step - loss: 0.0090 - accuracy: 1.0000\n",
            "Epoch 46/50\n",
            "27/27 [==============================] - 1s 41ms/step - loss: 0.0034 - accuracy: 1.0000\n",
            "Epoch 47/50\n",
            "27/27 [==============================] - 1s 42ms/step - loss: 0.0370 - accuracy: 0.9860\n",
            "Epoch 48/50\n",
            "27/27 [==============================] - 1s 42ms/step - loss: 0.3808 - accuracy: 0.9256\n",
            "Epoch 49/50\n",
            "27/27 [==============================] - 1s 41ms/step - loss: 0.1083 - accuracy: 0.9721\n",
            "Epoch 50/50\n",
            "27/27 [==============================] - 1s 40ms/step - loss: 0.0304 - accuracy: 0.9860\n"
          ]
        }
      ]
    },
    {
      "cell_type": "code",
      "source": [
        "predictions  = network.predict(test_dataset)\n",
        "predictions"
      ],
      "metadata": {
        "colab": {
          "base_uri": "https://localhost:8080/"
        },
        "id": "S9kjhgckPVAe",
        "outputId": "5edbe85d-8173-44e4-af2e-ee857b0a5c8e"
      },
      "execution_count": null,
      "outputs": [
        {
          "output_type": "stream",
          "name": "stdout",
          "text": [
            "54/54 [==============================] - 0s 4ms/step\n"
          ]
        },
        {
          "output_type": "execute_result",
          "data": {
            "text/plain": [
              "array([[1.00000000e+00, 2.49781151e-11],\n",
              "       [9.99994993e-01, 4.99608950e-06],\n",
              "       [5.83001494e-01, 4.16998506e-01],\n",
              "       [1.00000000e+00, 1.65920045e-12],\n",
              "       [1.00000000e+00, 1.56703965e-15],\n",
              "       [1.00000000e+00, 2.35933523e-14],\n",
              "       [9.93979931e-01, 6.02013431e-03],\n",
              "       [3.15966245e-05, 9.99968410e-01],\n",
              "       [2.83793174e-03, 9.97162104e-01],\n",
              "       [8.43169749e-01, 1.56830266e-01],\n",
              "       [6.88212458e-04, 9.99311805e-01],\n",
              "       [1.00000000e+00, 3.46549101e-09],\n",
              "       [9.95969057e-01, 4.03096341e-03],\n",
              "       [9.99999166e-01, 8.42061922e-07],\n",
              "       [9.98406112e-01, 1.59390992e-03],\n",
              "       [9.99997139e-01, 2.89984428e-06],\n",
              "       [9.99795139e-01, 2.04897093e-04],\n",
              "       [9.99002755e-01, 9.97237861e-04],\n",
              "       [1.32361034e-04, 9.99867678e-01],\n",
              "       [1.00000000e+00, 5.78199272e-13],\n",
              "       [1.58022814e-11, 1.00000000e+00],\n",
              "       [1.00000000e+00, 1.51491408e-09],\n",
              "       [9.99984741e-01, 1.52744979e-05],\n",
              "       [9.37120497e-01, 6.28794953e-02],\n",
              "       [9.99861717e-01, 1.38313029e-04],\n",
              "       [9.99996662e-01, 3.36058679e-06],\n",
              "       [9.99999642e-01, 3.95609476e-07],\n",
              "       [1.00000000e+00, 5.86691442e-08],\n",
              "       [1.00061825e-07, 9.99999881e-01],\n",
              "       [6.76401714e-06, 9.99993205e-01],\n",
              "       [7.65973229e-10, 1.00000000e+00],\n",
              "       [4.44032094e-06, 9.99995589e-01],\n",
              "       [2.67733680e-03, 9.97322738e-01],\n",
              "       [1.66892478e-09, 1.00000000e+00],\n",
              "       [4.94368796e-05, 9.99950528e-01],\n",
              "       [2.36883624e-10, 1.00000000e+00],\n",
              "       [2.45957403e-04, 9.99754012e-01],\n",
              "       [1.17861013e-10, 1.00000000e+00],\n",
              "       [6.18740523e-06, 9.99993801e-01],\n",
              "       [4.08618001e-10, 1.00000000e+00],\n",
              "       [5.17581034e-10, 1.00000000e+00],\n",
              "       [2.03526215e-05, 9.99979615e-01],\n",
              "       [2.60936469e-01, 7.39063561e-01],\n",
              "       [1.84881091e-01, 8.15118909e-01],\n",
              "       [9.66519237e-01, 3.34808156e-02],\n",
              "       [1.20259313e-06, 9.99998808e-01],\n",
              "       [2.22233925e-02, 9.77776647e-01],\n",
              "       [2.72845413e-10, 1.00000000e+00],\n",
              "       [8.26470387e-06, 9.99991775e-01],\n",
              "       [4.44335025e-03, 9.95556653e-01],\n",
              "       [1.72736662e-12, 1.00000000e+00],\n",
              "       [3.23223823e-04, 9.99676824e-01],\n",
              "       [3.45505250e-04, 9.99654531e-01],\n",
              "       [1.75617643e-05, 9.99982476e-01]], dtype=float32)"
            ]
          },
          "metadata": {},
          "execution_count": 35
        }
      ]
    },
    {
      "cell_type": "code",
      "source": [
        "predictions = np.argmax(predictions, axis=1)\n",
        "predictions\n"
      ],
      "metadata": {
        "colab": {
          "base_uri": "https://localhost:8080/"
        },
        "id": "tUUnJMOrPx60",
        "outputId": "7d23f446-6afc-4e15-d777-0ad8613bc5a6"
      },
      "execution_count": null,
      "outputs": [
        {
          "output_type": "execute_result",
          "data": {
            "text/plain": [
              "array([0, 0, 0, 0, 0, 0, 0, 1, 1, 0, 1, 0, 0, 0, 0, 0, 0, 0, 1, 0, 1, 0,\n",
              "       0, 0, 0, 0, 0, 0, 1, 1, 1, 1, 1, 1, 1, 1, 1, 1, 1, 1, 1, 1, 1, 1,\n",
              "       0, 1, 1, 1, 1, 1, 1, 1, 1, 1])"
            ]
          },
          "metadata": {},
          "execution_count": 36
        }
      ]
    },
    {
      "cell_type": "code",
      "source": [
        "test_dataset.classes"
      ],
      "metadata": {
        "id": "cciQHkayRhBz"
      },
      "execution_count": null,
      "outputs": []
    },
    {
      "cell_type": "code",
      "source": [
        "from sklearn.metrics import accuracy_score "
      ],
      "metadata": {
        "id": "aErv6yHqRzh7"
      },
      "execution_count": null,
      "outputs": []
    },
    {
      "cell_type": "code",
      "source": [
        "accuracy_score(test_dataset.classes,predictions)"
      ],
      "metadata": {
        "colab": {
          "base_uri": "https://localhost:8080/"
        },
        "id": "nXs-akbAR9hZ",
        "outputId": "ee8b4041-bc0a-46ae-9189-39b66108d163"
      },
      "execution_count": null,
      "outputs": [
        {
          "output_type": "execute_result",
          "data": {
            "text/plain": [
              "0.8888888888888888"
            ]
          },
          "metadata": {},
          "execution_count": 43
        }
      ]
    },
    {
      "cell_type": "code",
      "source": [
        "from sklearn.metrics import confusion_matrix\n",
        "cm = confusion_matrix(test_dataset.classes, predictions)\n",
        "sns.heatmap(cm, annot=True)\n"
      ],
      "metadata": {
        "colab": {
          "base_uri": "https://localhost:8080/",
          "height": 287
        },
        "id": "6QVkUtrASmWj",
        "outputId": "41936cd4-529c-41a5-8125-8e29166d74d5"
      },
      "execution_count": null,
      "outputs": [
        {
          "output_type": "execute_result",
          "data": {
            "text/plain": [
              "<AxesSubplot:>"
            ]
          },
          "metadata": {},
          "execution_count": 44
        },
        {
          "output_type": "display_data",
          "data": {
            "text/plain": [
              "<Figure size 432x288 with 2 Axes>"
            ],
            "image/png": "[encoded data removed]"
          },
          "metadata": {
            "needs_background": "light"
          }
        }
      ]
    },
    {
      "cell_type": "code",
      "source": [
        "from sklearn.metrics import classification_report\n"
      ],
      "metadata": {
        "id": "rdmD4qF7TOJF"
      },
      "execution_count": null,
      "outputs": []
    },
    {
      "cell_type": "code",
      "source": [
        "print(classification_report(test_dataset.classes,predictions))"
      ],
      "metadata": {
        "colab": {
          "base_uri": "https://localhost:8080/"
        },
        "id": "Tbc3WsWbTUjs",
        "outputId": "c2b4d322-b31a-44b7-c5d2-0df69860f0f7"
      },
      "execution_count": null,
      "outputs": [
        {
          "output_type": "stream",
          "name": "stdout",
          "text": [
            "              precision    recall  f1-score   support\n",
            "\n",
            "           0       0.96      0.82      0.88        28\n",
            "           1       0.83      0.96      0.89        26\n",
            "\n",
            "    accuracy                           0.89        54\n",
            "   macro avg       0.90      0.89      0.89        54\n",
            "weighted avg       0.90      0.89      0.89        54\n",
            "\n"
          ]
        }
      ]
    }
  ]
}